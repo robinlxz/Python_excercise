{
 "cells": [
  {
   "cell_type": "code",
   "execution_count": 53,
   "metadata": {},
   "outputs": [],
   "source": [
    "'''\n",
    "Intro to this code\n",
    "'''\n",
    "'''\n",
    "Things want to improve:\n",
    "1. Need class! IP, UID should be attributes of class...\n",
    "'''\n",
    "import csv\n",
    "import requests\n",
    "import json\n",
    "from time import sleep"
   ]
  },
  {
   "cell_type": "code",
   "execution_count": 54,
   "metadata": {},
   "outputs": [],
   "source": [
    "def read_csv(file_name):\n",
    "    ''' (py3) This function read the data by raws in csv, into a list '''\n",
    "    with open(file_name, 'r') as f:\n",
    "        reader = csv.reader(f)\n",
    "        list_output = list(reader)\n",
    "    # To get rid of the first raw, if there is title from mongoexport\n",
    "    if list_output[0][0] == 'date':\n",
    "        list_output = list_output[1:]\n",
    "\n",
    "    return list_output"
   ]
  },
  {
   "cell_type": "code",
   "execution_count": 55,
   "metadata": {},
   "outputs": [],
   "source": [
    "def output_list_to_csv(list_to_write,file_name):\n",
    "    '''(py3)This function write a list to a csv file'''\n",
    "    with open(file_name, 'w') as f:\n",
    "        writer = csv.writer(f)\n",
    "        writer.writerows(list_to_write)\n",
    "    print ('Done, list is output to:', file_name)"
   ]
  },
  {
   "cell_type": "code",
   "execution_count": 56,
   "metadata": {},
   "outputs": [],
   "source": [
    "def insert_value_to_dict_key(dic,key,value):\n",
    "    '''This function append new value exisiting list of specific key of the dict, only when value is not exist'''\n",
    "    if key not in dic.keys():\n",
    "        dic[key] = [value]\n",
    "    elif value not in dic[key]:\n",
    "        dic[key] = dic[key] + [value]\n",
    "    return dic"
   ]
  },
  {
   "cell_type": "code",
   "execution_count": 57,
   "metadata": {},
   "outputs": [],
   "source": [
    "list_0703 = read_csv('/Users/linxz/Documents/20190704_IP_UID_check/mongoexport/20190703_login_IP_UID.csv')"
   ]
  },
  {
   "cell_type": "code",
   "execution_count": 58,
   "metadata": {},
   "outputs": [],
   "source": [
    "test_list_0703 = list_0703[0:500]"
   ]
  },
  {
   "cell_type": "code",
   "execution_count": 59,
   "metadata": {},
   "outputs": [
    {
     "name": "stdout",
     "output_type": "stream",
     "text": [
      "189697\n",
      "824891\n"
     ]
    }
   ],
   "source": [
    "# Build a dict, key = IP, value = all UID (uniqe)\n",
    "dic_0703 = {}\n",
    "for record in list_0703:\n",
    "    dic_0703 = insert_value_to_dict_key(dic_0703, record[2], record[1])\n",
    "print (len(dic_0703))\n",
    "print (len(list_0703))"
   ]
  },
  {
   "cell_type": "code",
   "execution_count": 60,
   "metadata": {},
   "outputs": [
    {
     "name": "stdout",
     "output_type": "stream",
     "text": [
      "189697\n",
      "824891\n"
     ]
    }
   ],
   "source": [
    "# This take 1.5 mins to run (should try numpy?)\n",
    "# input('do you really want to run this? need 90 seconds')\n",
    "dic_0703 = {}\n",
    "for record in list_0703:\n",
    "    dic_0703 = insert_value_to_dict_key(dic_0703, record[2], record[1])\n",
    "print (len(dic_0703))\n",
    "print (len(list_0703))"
   ]
  },
  {
   "cell_type": "code",
   "execution_count": 61,
   "metadata": {},
   "outputs": [
    {
     "data": {
      "text/plain": [
       "['IP',\n",
       " 'UID login with this IP',\n",
       " ['14.227.118.82', 9508],\n",
       " ['14.231.58.97', 9322],\n",
       " ['14.242.138.100', 7555]]"
      ]
     },
     "execution_count": 61,
     "metadata": {},
     "output_type": "execute_result"
    }
   ],
   "source": [
    "#This is to get result list, now limit to first 10 IP\n",
    "#Get count first, don't append the UID\n",
    "#result = [['IP','UID login with this IP']]\n",
    "result = []\n",
    "for i in dic_0703.keys():\n",
    "    result.append([i,len(dic_0703[i])])\n",
    "s_result = sorted(result, key=lambda x: x[1], reverse=True)\n",
    "s_result = ['IP','UID login with this IP'] + s_result\n",
    "s_result[0:5]"
   ]
  },
  {
   "cell_type": "code",
   "execution_count": 62,
   "metadata": {},
   "outputs": [
    {
     "name": "stdout",
     "output_type": "stream",
     "text": [
      "Done, list is output to: 0701_IP_and_UID_count.csv\n"
     ]
    }
   ],
   "source": [
    "#Currently having problem if the list is too long\n",
    "output_list_to_csv(s_result,'0703_IP_and_UID_count.csv')"
   ]
  },
  {
   "cell_type": "code",
   "execution_count": 63,
   "metadata": {},
   "outputs": [
    {
     "data": {
      "text/plain": [
       "'14.231.58.97'"
      ]
     },
     "execution_count": 63,
     "metadata": {},
     "output_type": "execute_result"
    }
   ],
   "source": [
    "s_result[3][0]"
   ]
  },
  {
   "cell_type": "code",
   "execution_count": 10,
   "metadata": {},
   "outputs": [
    {
     "data": {
      "text/plain": [
       "{'a': [3, 5, 6]}"
      ]
     },
     "execution_count": 10,
     "metadata": {},
     "output_type": "execute_result"
    }
   ],
   "source": [
    "# Below is to show th\n",
    "dic = {}\n",
    "dic = {'a':[3,5,6]}\n",
    "insert_value_to_dict_key(dic,'a',3)"
   ]
  },
  {
   "cell_type": "code",
   "execution_count": 21,
   "metadata": {},
   "outputs": [
    {
     "name": "stdout",
     "output_type": "stream",
     "text": [
      "/Users/linxz/Documents/GitHub/Python_excercise/Data\r\n"
     ]
    }
   ],
   "source": [
    "a = []\n",
    "a.append([4,5])\n",
    "a.append([4,5])\n",
    "a\n",
    "!pwd"
   ]
  }
 ],
 "metadata": {
  "kernelspec": {
   "display_name": "Python 3",
   "language": "python",
   "name": "python3"
  },
  "language_info": {
   "codemirror_mode": {
    "name": "ipython",
    "version": 3
   },
   "file_extension": ".py",
   "mimetype": "text/x-python",
   "name": "python",
   "nbconvert_exporter": "python",
   "pygments_lexer": "ipython3",
   "version": "3.7.3"
  }
 },
 "nbformat": 4,
 "nbformat_minor": 2
}

{
 "cells": [
  {
   "cell_type": "markdown",
   "metadata": {},
   "source": [
    "## Same IP, how many device_id and UID\n",
    "## same device_id, how many IP and UID"
   ]
  },
  {
   "cell_type": "code",
   "execution_count": 3,
   "metadata": {},
   "outputs": [],
   "source": [
    "import csv\n",
    "def read_csv(file_name):\n",
    "    ''' (py3) This function read the data by raws in csv, into a list '''\n",
    "    with open(file_name, 'r') as f:\n",
    "        reader = csv.reader(f)\n",
    "        list_output = list(reader)\n",
    "    # To get rid of the first raw, if there is title from mongoexport\n",
    "    if list_output[0][0] == 'date':\n",
    "        list_output = list_output[1:]\n",
    "\n",
    "    return list_output"
   ]
  },
  {
   "cell_type": "code",
   "execution_count": 21,
   "metadata": {},
   "outputs": [],
   "source": [
    "## Get csv with \"date\",\"owner\",\"client_ip\",\"device_id\"\n",
    "date_str = '0702'\n",
    "\n",
    "allList = read_csv('/Users/linxz/Documents/20190704_IP_UID_check/mongoexport/2019'+date_str+'_login_IP_UID_device.csv')"
   ]
  },
  {
   "cell_type": "code",
   "execution_count": 22,
   "metadata": {},
   "outputs": [],
   "source": [
    "def output_list_to_csv(list_to_write,file_name):\n",
    "    '''(py3)This function write a list to a csv file'''\n",
    "    with open(file_name, 'w') as f:\n",
    "        writer = csv.writer(f)\n",
    "        writer.writerows(list_to_write)\n",
    "    print ('Done, list is output to:', file_name)"
   ]
  },
  {
   "cell_type": "code",
   "execution_count": 23,
   "metadata": {},
   "outputs": [],
   "source": [
    "def insert_value_to_dict_key(dic,key,value):\n",
    "    '''This function append new value exisiting list of specific key of the dict, only when value is not exist'''\n",
    "    if key not in dic.keys():\n",
    "        dic[key] = [value]\n",
    "    elif value not in dic[key]:\n",
    "        dic[key] = dic[key] + [value]\n",
    "    return dic"
   ]
  },
  {
   "cell_type": "code",
   "execution_count": 24,
   "metadata": {},
   "outputs": [],
   "source": [
    "#list_0703 = read_csv('/Users/linxz/Documents/20190704_IP_UID_check/mongoexport/2019'+date_str+'_login_IP_UID.csv')\n",
    "list_0703 = allList"
   ]
  },
  {
   "cell_type": "code",
   "execution_count": 25,
   "metadata": {},
   "outputs": [
    {
     "name": "stdout",
     "output_type": "stream",
     "text": [
      "203880\n",
      "971798\n"
     ]
    }
   ],
   "source": [
    "# Build a dict, key = IP, value = all UID (uniqe)\n",
    "#%%timeit\n",
    "# This take 1.5 mins to run (should try numpy?)\n",
    "# input('do you really want to run this? need 90 seconds')\n",
    "dic_0703 = {}\n",
    "for record in list_0703:\n",
    "    dic_0703 = insert_value_to_dict_key(dic_0703, record[2], record[1])\n",
    "print (len(dic_0703))\n",
    "print (len(list_0703))"
   ]
  },
  {
   "cell_type": "code",
   "execution_count": 26,
   "metadata": {},
   "outputs": [
    {
     "name": "stdout",
     "output_type": "stream",
     "text": [
      "203880\n",
      "971798\n"
     ]
    }
   ],
   "source": [
    "# Build a dict, key = IP, value = all device_id (uniqe)\n",
    "#%%timeit\n",
    "# This take 1.5 mins to run (should try numpy?)\n",
    "# input('do you really want to run this? need 90 seconds')\n",
    "dic_IP_device = {}\n",
    "for record in list_0703:\n",
    "    dic_IP_device = insert_value_to_dict_key(dic_IP_device, record[2], record[3])\n",
    "print (len(dic_IP_device))\n",
    "print (len(list_0703))"
   ]
  },
  {
   "cell_type": "code",
   "execution_count": 27,
   "metadata": {
    "scrolled": true
   },
   "outputs": [
    {
     "name": "stdout",
     "output_type": "stream",
     "text": [
      "mkdir: /Users/linxz/Documents/20190704_IP_UID_check/IP_UID_list: File exists\r\n"
     ]
    }
   ],
   "source": [
    "!mkdir /Users/linxz/Documents/20190704_IP_UID_check/IP_UID_list"
   ]
  },
  {
   "cell_type": "code",
   "execution_count": 28,
   "metadata": {},
   "outputs": [
    {
     "name": "stdout",
     "output_type": "stream",
     "text": [
      "4\n",
      "Done, list is output to: /Users/linxz/Documents/20190704_IP_UID_check/IP_UID_list/0702_specific_IP_UID_deviceID.csv\n"
     ]
    }
   ],
   "source": [
    "'''\n",
    "This block output only UID of specific IPs to a file, based on GO request\n",
    "'''\n",
    "i_list = ['42.112.224.167',\n",
    "'14.227.118.82']\n",
    "list_result = []\n",
    "\n",
    "for i in i_list:\n",
    "    list_result.append([[i],[len(dic_0703[i])],dic_0703[i]])\n",
    "    list_result.append([[i],[len(dic_IP_device[i])],dic_IP_device[i]])    \n",
    "\n",
    "print (len(list_result))    \n",
    "    \n",
    "output_list_to_csv(list_result, '/Users/linxz/Documents/20190704_IP_UID_check/IP_UID_list/'+date_str+'_specific_IP_UID_deviceID.csv')\n"
   ]
  }
 ],
 "metadata": {
  "kernelspec": {
   "display_name": "Python 3",
   "language": "python",
   "name": "python3"
  },
  "language_info": {
   "codemirror_mode": {
    "name": "ipython",
    "version": 3
   },
   "file_extension": ".py",
   "mimetype": "text/x-python",
   "name": "python",
   "nbconvert_exporter": "python",
   "pygments_lexer": "ipython3",
   "version": "3.7.3"
  }
 },
 "nbformat": 4,
 "nbformat_minor": 2
}

{
 "cells": [
  {
   "cell_type": "code",
   "execution_count": 51,
   "metadata": {},
   "outputs": [],
   "source": [
    "'''\n",
    "Intro for this piece of code:\n",
    "\n",
    "This is to deal with the Data from mongoexport of our game. Get a dictionary that with key value as IP, and list of UIDs using that IP as value.\n",
    "'''\n",
    "'''\n",
    "Things want to improve:\n",
    "1. Need class! IP, UID should be attributes of class...\n",
    "2. Use MACRO variable for date, instead of change each file name (in/out) everytime\n",
    "'''\n",
    "import csv\n",
    "import requests\n",
    "import json\n",
    "from time import sleep"
   ]
  },
  {
   "cell_type": "code",
   "execution_count": 52,
   "metadata": {},
   "outputs": [],
   "source": [
    "def read_csv(file_name):\n",
    "    ''' (py3) This function read the data by raws in csv, into a list '''\n",
    "    with open(file_name, 'r') as f:\n",
    "        reader = csv.reader(f)\n",
    "        list_output = list(reader)\n",
    "    # To get rid of the first raw, if there is title from mongoexport\n",
    "    if list_output[0][0] == 'date':\n",
    "        list_output = list_output[1:]\n",
    "\n",
    "    return list_output"
   ]
  },
  {
   "cell_type": "code",
   "execution_count": 53,
   "metadata": {},
   "outputs": [],
   "source": [
    "def output_list_to_csv(list_to_write,file_name):\n",
    "    '''(py3)This function write a list to a csv file'''\n",
    "    with open(file_name, 'w') as f:\n",
    "        writer = csv.writer(f)\n",
    "        writer.writerows(list_to_write)\n",
    "    print ('Done, list is output to:', file_name)"
   ]
  },
  {
   "cell_type": "code",
   "execution_count": 54,
   "metadata": {},
   "outputs": [],
   "source": [
    "def insert_value_to_dict_key(dic,key,value):\n",
    "    '''This function append new value exisiting list of specific key of the dict, only when value is not exist'''\n",
    "    if key not in dic.keys():\n",
    "        dic[key] = [value]\n",
    "    elif value not in dic[key]:\n",
    "        dic[key] = dic[key] + [value]\n",
    "    return dic"
   ]
  },
  {
   "cell_type": "code",
   "execution_count": 55,
   "metadata": {},
   "outputs": [],
   "source": [
    "list_0703 = read_csv('/Users/linxz/Documents/20190704_IP_UID_check/mongoexport/20190628_login_IP_UID.csv')"
   ]
  },
  {
   "cell_type": "code",
   "execution_count": 56,
   "metadata": {},
   "outputs": [],
   "source": [
    "test_list_0703 = list_0703[0:500]"
   ]
  },
  {
   "cell_type": "code",
   "execution_count": 57,
   "metadata": {},
   "outputs": [
    {
     "name": "stdout",
     "output_type": "stream",
     "text": [
      "210482\n",
      "1012687\n"
     ]
    }
   ],
   "source": [
    "# Build a dict, key = IP, value = all UID (uniqe)\n",
    "dic_0703 = {}\n",
    "for record in list_0703:\n",
    "    dic_0703 = insert_value_to_dict_key(dic_0703, record[2], record[1])\n",
    "print (len(dic_0703))\n",
    "print (len(list_0703))"
   ]
  },
  {
   "cell_type": "code",
   "execution_count": 58,
   "metadata": {},
   "outputs": [
    {
     "name": "stdout",
     "output_type": "stream",
     "text": [
      "210482\n",
      "1012687\n"
     ]
    }
   ],
   "source": [
    "%%timeit\n",
    "# This take 1.5 mins to run (should try numpy?)\n",
    "# input('do you really want to run this? need 90 seconds')\n",
    "dic_0703 = {}\n",
    "for record in list_0703:\n",
    "    dic_0703 = insert_value_to_dict_key(dic_0703, record[2], record[1])\n",
    "print (len(dic_0703))\n",
    "print (len(list_0703))"
   ]
  },
  {
   "cell_type": "code",
   "execution_count": 59,
   "metadata": {},
   "outputs": [
    {
     "data": {
      "text/plain": [
       "\"\\n#This is only output the amount of UID, but not with all UID list\\nresult = []\\nfor i in dic_0703.keys():\\n    result.append([i,len(dic_0703[i])])\\ns_result = sorted(result, key=lambda x: x[1], reverse=True)\\ns_result = ['IP','UID login with this IP'] + s_result\\ns_result[0:5]\\n\""
      ]
     },
     "execution_count": 59,
     "metadata": {},
     "output_type": "execute_result"
    }
   ],
   "source": [
    "#This is to get result list, now limit to first 10 IP\n",
    "#Get count first, don't append the UID\n",
    "#result = [['IP','UID login with this IP']]\n",
    "'''\n",
    "#This is only output the amount of UID, but not with all UID list\n",
    "result = []\n",
    "for i in dic_0703.keys():\n",
    "    result.append([i,len(dic_0703[i])])\n",
    "s_result = sorted(result, key=lambda x: x[1], reverse=True)\n",
    "s_result = ['IP','UID login with this IP'] + s_result\n",
    "s_result[0:5]\n",
    "'''"
   ]
  },
  {
   "cell_type": "code",
   "execution_count": 60,
   "metadata": {},
   "outputs": [],
   "source": [
    "result = []\n",
    "for i in dic_0703.keys():\n",
    "    result.append([i,len(dic_0703[i]),dic_0703[i]])\n",
    "s_result = sorted(result, key=lambda x: x[1], reverse=True)\n",
    "#s_result = [['IP'],['UID login with this IP'], ['UID list']] + s_result\n",
    "#s_result[0:1]"
   ]
  },
  {
   "cell_type": "code",
   "execution_count": 61,
   "metadata": {},
   "outputs": [
    {
     "name": "stdout",
     "output_type": "stream",
     "text": [
      "3\n",
      "Done, list is output to: /Users/linxz/Documents/20190704_IP_UID_check/IP_UID_list/0628_specific_IP.csv\n"
     ]
    }
   ],
   "source": [
    "'''\n",
    "This block output only UID of specific IPs to a file, based on GO request\n",
    "'''\n",
    "#dic_0703['171.249.95.166']\n",
    "i_list = ['42.112.81.126',\n",
    "'14.169.26.132',\n",
    "'14.167.213.151']\n",
    "list_result = []\n",
    "\n",
    "for i in i_list:\n",
    "    list_result.append([[i],[len(dic_0703[i])],dic_0703[i]])\n",
    "\n",
    "print (len(list_result))    \n",
    "    \n",
    "output_list_to_csv(list_result, '/Users/linxz/Documents/20190704_IP_UID_check/IP_UID_list/0628_specific_IP.csv')"
   ]
  },
  {
   "cell_type": "code",
   "execution_count": 62,
   "metadata": {},
   "outputs": [],
   "source": [
    "'''\n",
    "This block output UID using each IP\n",
    "'''\n",
    "#Currently having problem if the list is too long\n",
    "#output_list_to_csv(s_result,'/Users/linxz/Documents/20190704_IP_UID_check/IP_UID_list/0630_IP_with_all_UID.csv')"
   ]
  },
  {
   "cell_type": "code",
   "execution_count": 73,
   "metadata": {},
   "outputs": [
    {
     "data": {
      "text/plain": [
       "{'a': [3, 5, 6]}"
      ]
     },
     "execution_count": 73,
     "metadata": {},
     "output_type": "execute_result"
    }
   ],
   "source": [
    "# Below is to show th\n",
    "dic = {}\n",
    "dic = {'a':[3,5,6]}\n",
    "insert_value_to_dict_key(dic,'a',3)"
   ]
  }
 ],
 "metadata": {
  "kernelspec": {
   "display_name": "Python 3",
   "language": "python",
   "name": "python3"
  },
  "language_info": {
   "codemirror_mode": {
    "name": "ipython",
    "version": 3
   },
   "file_extension": ".py",
   "mimetype": "text/x-python",
   "name": "python",
   "nbconvert_exporter": "python",
   "pygments_lexer": "ipython3",
   "version": "3.7.3"
  }
 },
 "nbformat": 4,
 "nbformat_minor": 2
}

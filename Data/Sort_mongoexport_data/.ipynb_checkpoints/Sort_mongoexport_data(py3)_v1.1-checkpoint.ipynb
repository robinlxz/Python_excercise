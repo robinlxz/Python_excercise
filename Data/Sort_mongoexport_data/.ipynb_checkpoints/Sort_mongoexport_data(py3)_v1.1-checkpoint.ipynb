{
 "cells": [
  {
   "cell_type": "code",
   "execution_count": 142,
   "metadata": {},
   "outputs": [
    {
     "data": {
      "text/plain": [
       "\" 0708 thought: \\nFind a way to convert all time to timestamp, as it will be a number, it's much more straightforward. (specific time in a timezone will be only a number too)\\nTo read: https://www.saltycrane.com/blog/2009/05/converting-time-zones-datetime-objects-python/\\n\""
      ]
     },
     "execution_count": 142,
     "metadata": {},
     "output_type": "execute_result"
    }
   ],
   "source": [
    "# ## Special: this is to sort data team list into 3 list\n",
    "# ## Special: this is to sort data team list into 3 list\n",
    "# ## Special: this is to sort data team list into 3 list\n",
    "# mon_str = '06'\n",
    "# ## Special: this is to sort data team list into 3 list\n",
    "\n",
    "# import csv\n",
    "# def read_csv(file_name):\n",
    "#     ''' (py3) This function read the data by raws in csv, into a list '''\n",
    "#     with open(file_name, 'r') as f:\n",
    "#         reader = csv.reader(f)\n",
    "#         list_output = list(reader)\n",
    "#     # To get rid of the first raw, if there is title from mongoexport\n",
    "#     if list_output[0][0] == 'date':\n",
    "#         list_output = list_output[1:]\n",
    "\n",
    "#     return list_output\n",
    "\n",
    "\n",
    "# allList = read_csv('/Users/linxz/Documents/20190704_IP_UID_check/mongoexport/fo4_vn_2019-'+mon_str+'.csv')\n",
    "\n",
    "''' 0708 thought: \n",
    "Find a way to convert all time to timestamp, as it will be a number, it's much more straightforward. (specific time in a timezone will be only a number too)\n",
    "To read: https://www.saltycrane.com/blog/2009/05/converting-time-zones-datetime-objects-python/\n",
    "'''\n",
    "# from datetime import datetime\n",
    "# import pytz\n",
    "\n",
    "# list_01 = []\n",
    "# list_02 = []\n",
    "# list_03 = []\n",
    "# for i in allList:\n",
    "#     if 'date_' in i[0]:\n",
    "#         pass\n",
    "#     elif '2019-03-01' in i[0]:\n",
    "#         list_01.append(i)\n",
    "#     elif '2019-03-02' in i[0]:\n",
    "#         list_02.append(i)\n",
    "#     elif '2019-03-03' in i[0]:\n",
    "#         list_03.append(i)\n",
    "#     else:\n",
    "#         print ('Error! value trigger this is: ', i)\n",
    "#         break"
   ]
  },
  {
   "cell_type": "code",
   "execution_count": 143,
   "metadata": {},
   "outputs": [],
   "source": [
    "'''\n",
    "<Intro for this piece of code>\n",
    "\n",
    "This is to deal with the Data from mongoexport of our game. \n",
    "Get a dictionary that with key value as IP, and list of UIDs using that IP as value.\n",
    "'''\n",
    "'''\n",
    "Things want to improve:\n",
    "1. Use class! IP, UID should be attributes of class...\n",
    "2. Use MACRO variable for date, instead of change each file name (in/out) everytime\n",
    "3. Find how to use %%timeit for a code block\n",
    "4. Below code can be use for the case when there is a 'default', may not fit for UID?\n",
    "    for x in sequence:\n",
    "        freq[x] = freq.get(x,0) + 1\n",
    "'''\n",
    "import csv\n",
    "date_str = '06'\n",
    "folder_str = '20190704_IP_UID_check/mongoexport' #VN\n",
    "#folder_str = 'TH_IP_UID_check'#TH"
   ]
  },
  {
   "cell_type": "code",
   "execution_count": 144,
   "metadata": {},
   "outputs": [],
   "source": [
    "def read_csv(file_name):\n",
    "    ''' (py3) This function read the data by raws in csv, into a list '''\n",
    "    with open(file_name, 'r') as f:\n",
    "        reader = csv.reader(f)\n",
    "        list_output = list(reader)\n",
    "    # To get rid of the first raw, if there is title from mongoexport\n",
    "    if list_output[0][0] == 'date':\n",
    "        list_output = list_output[1:]\n",
    "    return list_output\n",
    "\n",
    "def output_list_to_csv(list_to_write,file_name):\n",
    "    '''(py3)This function write a list to a csv file'''\n",
    "    with open(file_name, 'w') as f:\n",
    "        writer = csv.writer(f)\n",
    "        writer.writerows(list_to_write)\n",
    "    print ('Done, list is output to:', file_name)\n",
    "\n",
    "def insert_value_to_dict_key(dic,key,value):\n",
    "    '''This function append new value exisiting list of specific key of the dict, only when value is not exist'''\n",
    "    if key not in dic.keys():\n",
    "        dic[key] = [value]\n",
    "    elif value not in dic[key]:\n",
    "        dic[key] = dic[key] + [value]\n",
    "    return dic"
   ]
  },
  {
   "cell_type": "code",
   "execution_count": 145,
   "metadata": {},
   "outputs": [],
   "source": [
    "def build_dict_from_list(listToDict):\n",
    "    '''\n",
    "    # Build a dict, key = IP, value = all UID (uniqe)\n",
    "    #%%timeit\n",
    "    # This take 1.5 mins to run for 100K rows list (try numpy?)\n",
    "    # input('do you really want to run this? need 90 seconds')\n",
    "    '''\n",
    "    dictFromList = {}\n",
    "    for record in listFromCSV:\n",
    "        dictFromList = insert_value_to_dict_key(dictFromList, record[2], record[1])\n",
    "    print ('Dictionary generated, with keys:', len(dictFromList))\n",
    "    print ('Original rows in list is: ', len(listFromCSV))\n",
    "    return dictFromList"
   ]
  },
  {
   "cell_type": "code",
   "execution_count": 12,
   "metadata": {},
   "outputs": [],
   "source": [
    "# robinlxz\n",
    "# code added on 0717\n",
    "\n",
    "from datetime import datetime\n",
    "def transfer_mongo_time_to_datetime(mongoTimeString):\n",
    "    '''\n",
    "    convert mongo time to python date time, to separate different time range when needed\n",
    "    '''\n",
    "    timeStamp = datetime(int(mongoTimeString[0:4]),int(mongoTimeString[5:7]),int(mongoTimeString[8:10]),int(mongoTimeString[11:13]),int(mongoTimeString[14:16]),int(mongoTimeString[17:19]))\n",
    "    \n",
    "    return timeStamp\n",
    "\n",
    "# This convert the mongodatetime to python datetime\n",
    "\n",
    "def transfer_list_first_column_to_pytime(listFromCSV):\n",
    "    for record in listFromCSV:\n",
    "        if record[0] == 'date_$date':\n",
    "            print ('skip this')\n",
    "            pass\n",
    "        elif type(record[0]) == datetime:\n",
    "            pass\n",
    "        else:\n",
    "            record[0] = transfer_mongo_time_to_datetime(record[0])\n",
    "    return listFromCSV\n",
    "\n",
    "'''\n",
    "date0601_cut = datetime(2019, 6, 1, 17, 0)\n",
    "date0602_cut = datetime(2019, 6, 2, 17, 0)\n",
    "date0603_cut = datetime(2019, 6, 3, 17, 0)\n",
    "\n",
    "list0601 = []\n",
    "list0602 = []\n",
    "list0603 = []\n",
    "listOther = []\n",
    "\n",
    "for record in listFromCSV:\n",
    "#    print (record[0])\n",
    "    if record[0] == 'date_$date':\n",
    "        print ('skip this')\n",
    "        pass\n",
    "    elif record[0] < date0601_cut:\n",
    "        list0601.append(record)\n",
    "    elif record[0] < date0602_cut:\n",
    "        list0602.append(record)\n",
    "    elif record[0] < date0603_cut:\n",
    "        list0603.append(record)\n",
    "    else:\n",
    "        listOther.append(record)\n",
    "'''        "
   ]
  },
  {
   "cell_type": "code",
   "execution_count": 10,
   "metadata": {},
   "outputs": [
    {
     "data": {
      "text/plain": [
       "datetime.datetime(2019, 6, 2, 16, 1, 20)"
      ]
     },
     "execution_count": 10,
     "metadata": {},
     "output_type": "execute_result"
    }
   ],
   "source": [
    "transfer_mongo_time_to_datetime('2019-06-02T16:01:20.196Z')\n",
    "# a = '2019-06-02T16:01:20.196Z'\n",
    "# a[17:19]"
   ]
  },
  {
   "cell_type": "code",
   "execution_count": 146,
   "metadata": {},
   "outputs": [],
   "source": [
    "#IP_UID\n",
    "#listFromCSV = read_csv('/Users/linxz/Documents/'+folder_str+'/2019'+date_str+'_login_IP_UID.csv')\n",
    "\n",
    "#IP_UID_device\n",
    "#listFromCSV = read_csv('/Users/linxz/Documents/'+folder_str+'/2019'+date_str+'_login_IP_UID_device.csv')\n",
    "\n",
    "#month data from data team\n",
    "listFromCSV = read_csv('/Users/linxz/Documents/'+folder_str+'/fo4_vn_2019-'+date_str+'.csv')"
   ]
  },
  {
   "cell_type": "code",
   "execution_count": 11,
   "metadata": {},
   "outputs": [
    {
     "ename": "NameError",
     "evalue": "name 'listFromCSV' is not defined",
     "output_type": "error",
     "traceback": [
      "\u001b[0;31m---------------------------------------------------------------------------\u001b[0m",
      "\u001b[0;31mNameError\u001b[0m                                 Traceback (most recent call last)",
      "\u001b[0;32m<ipython-input-11-89c93cea93ed>\u001b[0m in \u001b[0;36m<module>\u001b[0;34m\u001b[0m\n\u001b[0;32m----> 1\u001b[0;31m \u001b[0mlistFromCSV\u001b[0m\u001b[0;34m[\u001b[0m\u001b[0;36m1\u001b[0m\u001b[0;34m]\u001b[0m\u001b[0;34m\u001b[0m\u001b[0;34m\u001b[0m\u001b[0m\n\u001b[0m",
      "\u001b[0;31mNameError\u001b[0m: name 'listFromCSV' is not defined"
     ]
    }
   ],
   "source": [
    "listFromCSV[1]"
   ]
  },
  {
   "cell_type": "code",
   "execution_count": 148,
   "metadata": {},
   "outputs": [
    {
     "name": "stdout",
     "output_type": "stream",
     "text": [
      "Dictionary generated, with keys: 337257\n",
      "Original rows in list is:  2693277\n"
     ]
    }
   ],
   "source": [
    "dic_KeyIP_ValueUID = build_dict_from_list(listFromCSV)"
   ]
  },
  {
   "cell_type": "code",
   "execution_count": 149,
   "metadata": {},
   "outputs": [],
   "source": [
    "def get_UID_count_from_dict(dic_KeyIP_ValueUID):\n",
    "    '''\n",
    "    ## This is only output the amount of UID, but not with all UID list\n",
    "    #Get count first, don't append the UID\n",
    "    '''\n",
    "    result = []\n",
    "    for i in dic_KeyIP_ValueUID.keys():\n",
    "        result.append([i,len(dic_KeyIP_ValueUID[i])])\n",
    "#         print (result)\n",
    "#         break\n",
    "    s_result = sorted(result, key=lambda x: x[1], reverse=True)\n",
    "    s_result = [['IP','UID counts']] + s_result\n",
    "    #s_result[0:5]\n",
    "    return s_result\n"
   ]
  },
  {
   "cell_type": "code",
   "execution_count": 150,
   "metadata": {},
   "outputs": [],
   "source": [
    "def get_all_UID_from_dict(dic_KeyIP_ValueUID):\n",
    "    '''\n",
    "    ## This is output both the amount of UID, and with all UID list after it\n",
    "    '''\n",
    "    resultForIPandUID = []\n",
    "    for i in dic_KeyIP_ValueUID.keys():\n",
    "        resultForIPandUID.append([i,len(dic_KeyIP_ValueUID[i]),dic_KeyIP_ValueUID[i]])\n",
    "    s_resultForIPandUID = sorted(resultForIPandUID, key=lambda x: x[1], reverse=True)\n",
    "    s_resultForIPandUID = [['IP','UID counts', 'UID list']] + s_resultForIPandUID\n",
    "    #s_resultForIPandUID[0:1]\n",
    "    return s_resultForIPandUID"
   ]
  },
  {
   "cell_type": "code",
   "execution_count": 151,
   "metadata": {},
   "outputs": [],
   "source": [
    "def get_all_UID_for_100_from_dict(dic_KeyIP_ValueUID):\n",
    "    '''\n",
    "    ## This is output both the amount of UID, and with all UID list after it\n",
    "    '''\n",
    "    resultForIPandUID = []\n",
    "    for i in dic_KeyIP_ValueUID.keys():\n",
    "        if len(dic_KeyIP_ValueUID[i])>99:\n",
    "            resultForIPandUID.append([i,len(dic_KeyIP_ValueUID[i]),dic_KeyIP_ValueUID[i]])\n",
    "    s_resultForIPandUID = sorted(resultForIPandUID, key=lambda x: x[1], reverse=True)\n",
    "    s_resultForIPandUID = [['IP','UID counts', 'UID list']] + s_resultForIPandUID\n",
    "    #s_resultForIPandUID[0:1]\n",
    "    return s_resultForIPandUID"
   ]
  },
  {
   "cell_type": "code",
   "execution_count": 152,
   "metadata": {},
   "outputs": [
    {
     "name": "stdout",
     "output_type": "stream",
     "text": [
      "mkdir: /Users/linxz/Documents/20190704_IP_UID_check/mongoexport/IP_UID_list/: File exists\r\n"
     ]
    }
   ],
   "source": [
    "#VN\n",
    "#!mkdir /Users/linxz/Documents/20190704_IP_UID_check/IP_UID_list\n",
    "!mkdir /Users/linxz/Documents/20190704_IP_UID_check/mongoexport/IP_UID_list/\n",
    "\n",
    "#TH\n",
    "#!mkdir /Users/linxz/Documents/TH_IP_UID_check/IP_UID_list"
   ]
  },
  {
   "cell_type": "code",
   "execution_count": 153,
   "metadata": {},
   "outputs": [
    {
     "name": "stdout",
     "output_type": "stream",
     "text": [
      "Done, list is output to: /Users/linxz/Documents/20190704_IP_UID_check/mongoexport/IP_UID_list/201906_IP_with_all_UID.csv\n"
     ]
    }
   ],
   "source": [
    "## This is to output the result for IP + UID count\n",
    "\n",
    "#count_result = get_UID_count_from_dict(dic_KeyIP_ValueUID)\n",
    "all_UID_result = get_all_UID_from_dict(dic_KeyIP_ValueUID)\n",
    "\n",
    "#output_list_to_csv(count_result,'/Users/linxz/Documents/20190704_IP_UID_check/IP_UID_list/'+date_str+'_IP_with_UID_count.csv')\n",
    "output_list_to_csv(all_UID_result,'/Users/linxz/Documents/'+folder_str+'/IP_UID_list/2019'+date_str+'_IP_with_all_UID.csv')"
   ]
  },
  {
   "cell_type": "code",
   "execution_count": 1,
   "metadata": {},
   "outputs": [
    {
     "name": "stdout",
     "output_type": "stream",
     "text": [
      "use this based on need.\n"
     ]
    }
   ],
   "source": [
    "'''\n",
    "This block output only UID of specific IPs to a file, based on GO request\n",
    "\n",
    "i_list = ['42.112.81.126',\n",
    "'14.169.26.132',\n",
    "'14.167.213.151']\n",
    "list_result = []\n",
    "\n",
    "for i in i_list:\n",
    "    list_result.append([[i],[len(dic_KeyIP_ValueUID[i])],dic_KeyIP_ValueUID[i]])\n",
    "\n",
    "print (len(list_result))    \n",
    "    \n",
    "output_list_to_csv(list_result, '/Users/linxz/Documents/2019'+date_str+'_IP_UID_check/IP_UID_list/0628_specific_IP.csv')\n",
    "'''\n",
    "print ('use this based on need.')"
   ]
  }
 ],
 "metadata": {
  "kernelspec": {
   "display_name": "Python 3",
   "language": "python",
   "name": "python3"
  },
  "language_info": {
   "codemirror_mode": {
    "name": "ipython",
    "version": 3
   },
   "file_extension": ".py",
   "mimetype": "text/x-python",
   "name": "python",
   "nbconvert_exporter": "python",
   "pygments_lexer": "ipython3",
   "version": "3.7.3"
  }
 },
 "nbformat": 4,
 "nbformat_minor": 2
}

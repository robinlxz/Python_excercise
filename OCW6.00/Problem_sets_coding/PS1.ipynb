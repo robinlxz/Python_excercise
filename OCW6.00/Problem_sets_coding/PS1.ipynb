{
 "cells": [
  {
   "cell_type": "markdown",
   "metadata": {},
   "source": [
    "# This is for problem set 1 of OCW6.00\n",
    "\n",
    "### Problem description:\n",
    "https://ocw.mit.edu/courses/electrical-engineering-and-computer-science/6-00sc-introduction-to-computer-science-and-programming-spring-2011/unit-1/lecture-4-machine-interpretation-of-a-program/MIT6_00SCS11_ps1.pdf\n",
    "\n",
    "### Remark\n",
    "Original lecture and code should be in Python2, I try here in Python3. If not able to handle it, I will rollback (20190704)"
   ]
  },
  {
   "cell_type": "code",
   "execution_count": 3,
   "metadata": {},
   "outputs": [],
   "source": [
    "#class PS1(object):\n",
    "#    __init__ = \n",
    "#    pass"
   ]
  },
  {
   "cell_type": "code",
   "execution_count": 8,
   "metadata": {},
   "outputs": [],
   "source": [
    "'''\n",
    "Say you’ve made a $5,000 purchase on a credit card with 18% annual interest rate and 2%\n",
    "minimum monthly payment rate. After a year, how much is the remaining balance? Use the\n",
    "following equations. \n",
    "'''\n",
    "minMonRate = 0.02\n",
    "anualRate = 0.18\n",
    "initBalance = 5000"
   ]
  },
  {
   "cell_type": "code",
   "execution_count": 9,
   "metadata": {},
   "outputs": [],
   "source": [
    "minMonPay = minMonRate * balance\n",
    "interestPaid = anualRate / 12 * balance\n",
    "principalPaid = minMonPay - interestPaid\n",
    "remainingBalance = balance - principalPaid"
   ]
  },
  {
   "cell_type": "code",
   "execution_count": 33,
   "metadata": {},
   "outputs": [
    {
     "name": "stdout",
     "output_type": "stream",
     "text": [
      "At the Dec your balance left is 4731.772899067214\n",
      "All money paid is 1167.5438617124835\n"
     ]
    },
    {
     "data": {
      "image/png": "[encoded data removed]",
      "text/plain": [
       "<Figure size 432x288 with 1 Axes>"
      ]
     },
     "metadata": {
      "needs_background": "light"
     },
     "output_type": "display_data"
    }
   ],
   "source": [
    "import numpy as np\n",
    "import pylab\n",
    "balance = initBalance\n",
    "allMonth = np.linspace(1,12,12)\n",
    "allMinPay = []\n",
    "allBalance = []\n",
    "for i in allMonth:\n",
    "    minMonPay = minMonRate * balance\n",
    "    interestPaid = anualRate / 12 * balance\n",
    "    principalPaid = minMonPay - interestPaid\n",
    "    remainingBalance = balance - principalPaid\n",
    "    allMinPay.append(minMonPay)\n",
    "    allBalance.append(balance)\n",
    "    balance = remainingBalance\n",
    "\n",
    "pylab.plot(allMonth, allBalance)\n",
    "#pylab.plot(allMonth, allMinPay)\n",
    "#print (allMinPay)\n",
    "print ('At the Dec your balance left is', allBalance[-1])\n",
    "print ('All money paid is', sum(allMinPay))"
   ]
  },
  {
   "cell_type": "markdown",
   "metadata": {},
   "source": [
    "# Problem 1\n",
    "Write a program to calculate the credit card balance after one year if a person only pays the\n",
    "minimum monthly payment required by the credit card company each month.\n",
    "Use raw_input() to ask for the following three floating point numbers:\n",
    "1. the outstanding balance on the credit card\n",
    "2. annual interest rate\n",
    "3. minimum monthly payment rate\n",
    "For each month, print the minimum monthly payment, remaining balance, principle paid in the\n",
    "format shown in the test cases below. All numbers should be rounded to the nearest penny.\n",
    "Finally, print the result, which should include the total amount paid that year and the remaining\n",
    "balance. "
   ]
  },
  {
   "cell_type": "code",
   "execution_count": 51,
   "metadata": {},
   "outputs": [
    {
     "name": "stdout",
     "output_type": "stream",
     "text": [
      "Enter the outstanding balance on your credit card:4800\n",
      "Enter the annual credit card interest rate as a decimal:.2\n",
      "Enter the minimum monthly payment rate as a decimal:.02\n",
      "Month: 1\n",
      "Minimum monthly payment: 96.0\n",
      "Principle paid: 16.0\n",
      "Remaining balance: 4784.0\n",
      "Month: 2\n",
      "Minimum monthly payment: 95.68\n",
      "Principle paid: 15.946666666666673\n",
      "Remaining balance: 4768.053333333333\n",
      "Month: 3\n",
      "Minimum monthly payment: 95.36106666666667\n",
      "Principle paid: 15.893511111111124\n",
      "Remaining balance: 4752.159822222222\n",
      "Month: 4\n",
      "Minimum monthly payment: 95.04319644444443\n",
      "Principle paid: 15.840532740740741\n",
      "Remaining balance: 4736.319289481481\n",
      "Month: 5\n",
      "Minimum monthly payment: 94.72638578962962\n",
      "Principle paid: 15.787730964938262\n",
      "Remaining balance: 4720.531558516543\n",
      "Month: 6\n",
      "Minimum monthly payment: 94.41063117033086\n",
      "Principle paid: 15.735105195055155\n",
      "Remaining balance: 4704.796453321487\n",
      "Month: 7\n",
      "Minimum monthly payment: 94.09592906642975\n",
      "Principle paid: 15.682654844404965\n",
      "Remaining balance: 4689.113798477082\n",
      "Month: 8\n",
      "Minimum monthly payment: 93.78227596954164\n",
      "Principle paid: 15.630379328256936\n",
      "Remaining balance: 4673.483419148825\n",
      "Month: 9\n",
      "Minimum monthly payment: 93.46966838297651\n",
      "Principle paid: 15.578278063829416\n",
      "Remaining balance: 4657.905141084996\n",
      "Month: 10\n",
      "Minimum monthly payment: 93.15810282169993\n",
      "Principle paid: 15.526350470283333\n",
      "Remaining balance: 4642.378790614713\n",
      "Month: 11\n",
      "Minimum monthly payment: 92.84757581229425\n",
      "Principle paid: 15.474595968715704\n",
      "Remaining balance: 4626.9041946459965\n",
      "Month: 12\n",
      "Minimum monthly payment: 92.53808389291993\n",
      "Principle paid: 15.423013982153321\n",
      "Remaining balance: 4611.481180663844\n",
      "Result\n",
      "Total amount paid: 1131.1129160169335\n",
      "Remaining balance: 4611.481180663844\n"
     ]
    }
   ],
   "source": [
    "'''\n",
    "Test case 1\n",
    "'''\n",
    "import numpy as np\n",
    "\n",
    "## for init\n",
    "initBalance = float(input('Enter the outstanding balance on your credit card:'))\n",
    "anualRate = float(input('Enter the annual credit card interest rate as a decimal:'))\n",
    "minMonRate = float(input('Enter the minimum monthly payment rate as a decimal:'))\n",
    "\n",
    "balance = initBalance\n",
    "everyMinPay = []\n",
    "everyBalance = []\n",
    "allMonth = np.linspace(1,12,12)\n",
    "\n",
    "## each month\n",
    "for i in allMonth:\n",
    "    minMonPay = minMonRate * balance\n",
    "    interestPaid = anualRate / 12 * balance\n",
    "    principalPaid = minMonPay - interestPaid\n",
    "    remainingBalance = balance - principalPaid\n",
    "    print ('Month:', int(i))\n",
    "    print ('Minimum monthly payment:', minMonPay)\n",
    "    print ('Principle paid:', principalPaid)\n",
    "    print ('Remaining balance:', remainingBalance)\n",
    "    \n",
    "    everyMinPay.append(minMonPay)\n",
    "    everyBalance.append(balance)\n",
    "    balance = remainingBalance\n",
    "    \n",
    "print ('Result')\n",
    "print ('Total amount paid:', sum(everyMinPay))\n",
    "print ('Remaining balance:', remainingBalance)"
   ]
  },
  {
   "cell_type": "code",
   "execution_count": 49,
   "metadata": {},
   "outputs": [
    {
     "name": "stdout",
     "output_type": "stream",
     "text": [
      "Enter the outstanding balance on your credit card:3\n",
      "Enter the annual credit card interest rate as a decimal:2\n",
      "Enter the minimum monthly payment rate as a decimal:1\n"
     ]
    }
   ],
   "source": [
    "import numpy as np\n",
    "\n",
    "## for init\n",
    "initBalance = float(input('Enter the outstanding balance on your credit card:'))\n",
    "anualRate = float(input('Enter the annual credit card interest rate as a decimal:'))\n",
    "minMonRate = float(input('Enter the minimum monthly payment rate as a decimal:'))\n",
    "\n",
    "balance = initBalance\n",
    "everyMinPay = []\n",
    "everyBalance = []\n",
    "allMonth = np.linspace(1,12,12)\n"
   ]
  },
  {
   "cell_type": "code",
   "execution_count": 50,
   "metadata": {},
   "outputs": [],
   "source": [
    "minMonPay = minMonRate * balance\n",
    "#type(minMonRate)"
   ]
  }
 ],
 "metadata": {
  "kernelspec": {
   "display_name": "Python 3",
   "language": "python",
   "name": "python3"
  },
  "language_info": {
   "codemirror_mode": {
    "name": "ipython",
    "version": 3
   },
   "file_extension": ".py",
   "mimetype": "text/x-python",
   "name": "python",
   "nbconvert_exporter": "python",
   "pygments_lexer": "ipython3",
   "version": "3.7.3"
  }
 },
 "nbformat": 4,
 "nbformat_minor": 2
}

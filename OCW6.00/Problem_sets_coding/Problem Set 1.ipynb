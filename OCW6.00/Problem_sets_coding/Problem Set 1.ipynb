{
 "cells": [
  {
   "cell_type": "markdown",
   "metadata": {},
   "source": [
    "# This is for problem set 1 of OCW6.00\n",
    "\n",
    "### Problem description:\n",
    "https://ocw.mit.edu/courses/electrical-engineering-and-computer-science/6-00sc-introduction-to-computer-science-and-programming-spring-2011/unit-1/lecture-4-machine-interpretation-of-a-program/MIT6_00SCS11_ps1.pdf\n",
    "\n",
    "### Remark\n",
    "Original lecture and code should be in Python2, I try here in Python3. If not able to handle it, I will rollback (20190704)"
   ]
  },
  {
   "cell_type": "code",
   "execution_count": null,
   "metadata": {},
   "outputs": [],
   "source": [
    "#class PS1(object):\n",
    "#    __init__ = \n",
    "#    pass"
   ]
  },
  {
   "cell_type": "code",
   "execution_count": 1,
   "metadata": {},
   "outputs": [],
   "source": [
    "'''\n",
    "Say you’ve made a $5,000 purchase on a credit card with 18% annual interest rate and 2%\n",
    "minimum monthly payment rate. After a year, how much is the remaining balance? Use the\n",
    "following equations. \n",
    "'''\n",
    "minMonRate = 0.02\n",
    "anualRate = 0.18\n",
    "initBalance = 5000"
   ]
  },
  {
   "cell_type": "code",
   "execution_count": null,
   "metadata": {},
   "outputs": [],
   "source": [
    "minMonPay = minMonRate * balance\n",
    "interestPaid = anualRate / 12 * balance\n",
    "principalPaid = minMonPay - interestPaid\n",
    "remainingBalance = balance - principalPaid"
   ]
  },
  {
   "cell_type": "code",
   "execution_count": null,
   "metadata": {},
   "outputs": [],
   "source": [
    "import numpy as np\n",
    "import pylab\n",
    "balance = initBalance\n",
    "allMonth = np.linspace(1,12,12)\n",
    "allMinPay = []\n",
    "allBalance = []\n",
    "for i in allMonth:\n",
    "    minMonPay = minMonRate * balance\n",
    "    interestPaid = anualRate / 12 * balance\n",
    "    principalPaid = minMonPay - interestPaid\n",
    "    remainingBalance = balance - principalPaid\n",
    "    allMinPay.append(minMonPay)\n",
    "    allBalance.append(balance)\n",
    "    balance = remainingBalance\n",
    "\n",
    "pylab.plot(allMonth, allBalance)\n",
    "#pylab.plot(allMonth, allMinPay)\n",
    "#print (allMinPay)\n",
    "print ('At the Dec your balance left is', allBalance[-1])\n",
    "print ('All money paid is', sum(allMinPay))"
   ]
  },
  {
   "cell_type": "markdown",
   "metadata": {},
   "source": [
    "# Problem 1\n",
    "Write a program to calculate the credit card balance after one year if a person only pays the\n",
    "minimum monthly payment required by the credit card company each month.\n",
    "Use raw_input() to ask for the following three floating point numbers:\n",
    "1. the outstanding balance on the credit card\n",
    "2. annual interest rate\n",
    "3. minimum monthly payment rate\n",
    "For each month, print the minimum monthly payment, remaining balance, principle paid in the\n",
    "format shown in the test cases below. All numbers should be rounded to the nearest penny.\n",
    "Finally, print the result, which should include the total amount paid that year and the remaining\n",
    "balance. "
   ]
  },
  {
   "cell_type": "code",
   "execution_count": null,
   "metadata": {},
   "outputs": [],
   "source": [
    "'''\n",
    "Test case 1\n",
    "'''\n",
    "import numpy as np\n",
    "\n",
    "## for init\n",
    "initBalance = float(input('Enter the outstanding balance on your credit card:'))\n",
    "anualRate = float(input('Enter the annual credit card interest rate as a decimal:'))\n",
    "minMonRate = float(input('Enter the minimum monthly payment rate as a decimal:'))\n",
    "\n",
    "balance = initBalance\n",
    "everyMinPay = []\n",
    "everyBalance = []\n",
    "allMonth = np.linspace(1,12,12)\n",
    "\n",
    "## each month\n",
    "for i in allMonth:\n",
    "    minMonPay = minMonRate * balance\n",
    "    interestPaid = anualRate / 12 * balance\n",
    "    principalPaid = minMonPay - interestPaid\n",
    "    remainingBalance = balance - principalPaid\n",
    "    print ('Month:', int(i))\n",
    "    print ('Minimum monthly payment:', minMonPay)\n",
    "    print ('Principle paid:', principalPaid)\n",
    "    print ('Remaining balance:', remainingBalance)\n",
    "    \n",
    "    everyMinPay.append(minMonPay)\n",
    "    everyBalance.append(balance)\n",
    "    balance = remainingBalance\n",
    "    \n",
    "print ('Result')\n",
    "print ('Total amount paid:', sum(everyMinPay))\n",
    "print ('Remaining balance:', remainingBalance)"
   ]
  },
  {
   "cell_type": "code",
   "execution_count": null,
   "metadata": {},
   "outputs": [],
   "source": [
    "import numpy as np\n",
    "\n",
    "## for init\n",
    "initBalance = float(input('Enter the outstanding balance on your credit card:'))\n",
    "anualRate = float(input('Enter the annual credit card interest rate as a decimal:'))\n",
    "minMonRate = float(input('Enter the minimum monthly payment rate as a decimal:'))\n",
    "\n",
    "balance = initBalance\n",
    "everyMinPay = []\n",
    "everyBalance = []\n",
    "allMonth = np.linspace(1,12,12)\n"
   ]
  },
  {
   "cell_type": "code",
   "execution_count": null,
   "metadata": {},
   "outputs": [],
   "source": [
    "minMonPay = minMonRate * balance\n",
    "#type(minMonRate)"
   ]
  },
  {
   "cell_type": "code",
   "execution_count": null,
   "metadata": {},
   "outputs": [],
   "source": [
    "'''\n",
    "Test case 2, same code as test case 1, just different init\n",
    "'''\n",
    "import numpy as np\n",
    "\n",
    "## for init\n",
    "initBalance = float(input('Enter the outstanding balance on your credit card:'))\n",
    "anualRate = float(input('Enter the annual credit card interest rate as a decimal:'))\n",
    "minMonRate = float(input('Enter the minimum monthly payment rate as a decimal:'))\n",
    "\n",
    "balance = initBalance\n",
    "everyMinPay = []\n",
    "everyBalance = []\n",
    "allMonth = np.linspace(1,12,12)\n",
    "\n",
    "## each month\n",
    "for i in allMonth:\n",
    "    minMonPay = minMonRate * balance\n",
    "    interestPaid = anualRate / 12 * balance\n",
    "    principalPaid = minMonPay - interestPaid\n",
    "    remainingBalance = balance - principalPaid\n",
    "    print ('Month:', round(int(i),2))\n",
    "    print ('Minimum monthly payment:', round(minMonPay,2))\n",
    "    print ('Principle paid:', round(principalPaid,2))\n",
    "    print ('Remaining balance:', round(remainingBalance,2))\n",
    "    \n",
    "    everyMinPay.append(minMonPay)\n",
    "    everyBalance.append(balance)\n",
    "    balance = remainingBalance\n",
    "    \n",
    "print ('Result')\n",
    "print ('Total amount paid:', round(sum(everyMinPay),2))\n",
    "print ('Remaining balance:', round(remainingBalance,2))"
   ]
  },
  {
   "cell_type": "markdown",
   "metadata": {},
   "source": [
    "## Problem 2\n",
    "Now write a program that calculates the minimum fixed monthly payment needed in order pay\n",
    "off a credit card balance within 12 months. We will not be dealing with a minimum monthly\n",
    "payment rate. "
   ]
  },
  {
   "cell_type": "code",
   "execution_count": 56,
   "metadata": {},
   "outputs": [
    {
     "name": "stdout",
     "output_type": "stream",
     "text": [
      "Enter the outstanding balance on your credit card:32000\n",
      "Enter the annual credit card interest rate as a decimal:.2\n"
     ]
    }
   ],
   "source": [
    "initBalance = float(input('Enter the outstanding balance on your credit card:'))\n",
    "anualRate = float(input('Enter the annual credit card interest rate as a decimal:'))"
   ]
  },
  {
   "cell_type": "code",
   "execution_count": 65,
   "metadata": {
    "scrolled": true
   },
   "outputs": [
    {
     "name": "stdout",
     "output_type": "stream",
     "text": [
      "RESULT\n",
      "Monthly payment to pay off debt in 1 year: 2964.3999999983994\n",
      "Number of months needed: 12\n",
      "Balance: -1.26\n"
     ]
    },
    {
     "data": {
      "text/plain": [
       "[<matplotlib.lines.Line2D at 0x1230c9438>]"
      ]
     },
     "execution_count": 65,
     "metadata": {},
     "output_type": "execute_result"
    },
    {
     "data": {
      "image/png": "[encoded data removed]",
      "text/plain": [
       "<Figure size 432x288 with 1 Axes>"
      ]
     },
     "metadata": {
      "needs_background": "light"
     },
     "output_type": "display_data"
    }
   ],
   "source": [
    "#%%timeit # This will make this code stuck in loop, need to check why\n",
    "import pylab\n",
    "\n",
    "testMonPay = 0\n",
    "balance = 1\n",
    "\n",
    "\n",
    "round_i = 0\n",
    "\n",
    "while balance > 0:\n",
    "#     print ('this is round:', round_i)\n",
    "#     round_i += 1\n",
    "    balance = initBalance\n",
    "#    testMonPay += 0.01\n",
    "    testMonPay += 0.10    \n",
    "    balanceList = []\n",
    "    \n",
    "#     print ('-----------')\n",
    "#     print ('testMonPay', testMonPay)\n",
    "#     print ('balance', balance)\n",
    "#     print ('-----------')\n",
    "\n",
    "    for month in range(1,13,1):\n",
    "        MonPay = testMonPay\n",
    "    #    interestPaid = anualRate / 12 * balance\n",
    "    #    principalPaid = MonPay - interestPaid\n",
    "        remainingBalance = balance * (1 + anualRate / 12) - MonPay\n",
    "        balance = remainingBalance\n",
    "        balanceList.append(balance)\n",
    "        if balance < 0:\n",
    "            break\n",
    "\n",
    "#         print ('-----------')\n",
    "#         print ('testMonPay', testMonPay)\n",
    "#         print ('balance', balance)\n",
    "#         print ('-----------')\n",
    "#         print ('month', i)\n",
    "\n",
    "print ('RESULT')\n",
    "print ('Monthly payment to pay off debt in 1 year:', testMonPay)\n",
    "print ('Number of months needed:', month)\n",
    "print ('Balance:', round(balance,2))\n",
    "pylab.plot(list(range(len(balanceList))), balanceList)\n"
   ]
  },
  {
   "cell_type": "markdown",
   "metadata": {},
   "source": [
    "## Problem 3 \n",
    "### Using Bisection Search to Make the Program Faster\n",
    "\n",
    " - Monthly payment lower bound = Balance / 12.0\n",
    " - Monthly payment upper bound = (Balance * (1 + (Annual interest rate / 12.0)) ** 12.0) / 12.0 "
   ]
  },
  {
   "cell_type": "code",
   "execution_count": 113,
   "metadata": {},
   "outputs": [
    {
     "name": "stdout",
     "output_type": "stream",
     "text": [
      "Enter the outstanding balance on your credit card:999999\n",
      "Enter the annual credit card interest rate as a decimal:.18\n"
     ]
    }
   ],
   "source": [
    "initBalance = float(input('Enter the outstanding balance on your credit card:'))\n",
    "anualRate = float(input('Enter the annual credit card interest rate as a decimal:'))"
   ]
  },
  {
   "cell_type": "code",
   "execution_count": 134,
   "metadata": {},
   "outputs": [],
   "source": [
    "'''\n",
    "Problem set 3\n",
    "'''\n",
    "#Test Code init setup\n",
    "initBalance = 999999\n",
    "anualRate = 0.18\n",
    "##init setup\n",
    "resultLowerBound = -0.2\n",
    "lowerBound = initBalance/12.0\n",
    "upperBound = (initBalance*(1+anualRate/12)**12)/12\n",
    "binSearchPay = (lowerBound+upperBound)/2\n",
    "binSearchPayList = []\n",
    "i=0\n",
    "balance = initBalance\n",
    "\n",
    "##binary search\n",
    "while balance > 0 or balance < resultLowerBound:\n",
    "    balance = initBalance\n",
    "    balanceList = []\n",
    "    binSearchPayList.append(binSearchPay)\n",
    "#     print ('-----------')\n",
    "#     print ('binSearchPay', binSearchPay)\n",
    "#     print ('balance', balance)\n",
    "#     print ('-----------')\n",
    "\n",
    "    for month in range(1,13,1):\n",
    "        MonPay = binSearchPay\n",
    "        remainingBalance = balance * (1 + anualRate / 12) - MonPay\n",
    "        balance = remainingBalance\n",
    "        balanceList.append(balance)\n",
    "        if remainingBalance < 0:\n",
    "            break\n",
    "#    print (binSearchPay)\n",
    "\n",
    "    #Need to update new search and new bound!\n",
    "    if remainingBalance > 0:\n",
    "        lowerBound = binSearchPay\n",
    "        binSearchPay = (binSearchPay + upperBound)/2\n",
    "    if remainingBalance < resultLowerBound:\n",
    "        upperBound = binSearchPay\n",
    "        binSearchPay = (binSearchPay + lowerBound)/2\n",
    "    i += 1"
   ]
  },
  {
   "cell_type": "code",
   "execution_count": 135,
   "metadata": {},
   "outputs": [
    {
     "name": "stdout",
     "output_type": "stream",
     "text": [
      "RESULT\n",
      "Monthly payment to pay off debt in 1 year: 91679.91\n",
      "Number of months needed: 12\n",
      "Balance: -0.16\n"
     ]
    },
    {
     "data": {
      "text/plain": [
       "[<matplotlib.lines.Line2D at 0x123308550>]"
      ]
     },
     "execution_count": 135,
     "metadata": {},
     "output_type": "execute_result"
    },
    {
     "data": {
      "image/png": "[encoded data removed]",
      "text/plain": [
       "<Figure size 432x288 with 1 Axes>"
      ]
     },
     "metadata": {
      "needs_background": "light"
     },
     "output_type": "display_data"
    }
   ],
   "source": [
    "print ('RESULT')\n",
    "print ('Monthly payment to pay off debt in 1 year:', round(binSearchPay,2))\n",
    "print ('Number of months needed:', month)\n",
    "print ('Balance:', round(balance,2))\n",
    "pylab.plot(list(range(len(balanceList))), balanceList)"
   ]
  },
  {
   "cell_type": "code",
   "execution_count": 69,
   "metadata": {},
   "outputs": [],
   "source": [
    "#%%timeit\n",
    "#a = 10+10"
   ]
  },
  {
   "cell_type": "markdown",
   "metadata": {},
   "source": [
    "## I think PS3 solution code is better in below points: \n",
    "1. It do the 1/2 for binary search first. (But this end up have the 12 month code two times)\n",
    "2. The trigger for stop search is distance between upper bound and lower bound"
   ]
  },
  {
   "cell_type": "code",
   "execution_count": 140,
   "metadata": {},
   "outputs": [
    {
     "name": "stdout",
     "output_type": "stream",
     "text": [
      "Couldn't find program: 'python2'\n"
     ]
    }
   ],
   "source": [
    "%%python2\n",
    "# Official solution code as below:\n",
    "# 6.00 PS1-C Solution\n",
    "# Uses bisection search to find the fixed minimum monthly payment needed\n",
    "# to finish paying off credit card debt within a year\n",
    "\n",
    "# Retrieve input\n",
    "original_balance = float(raw_input(\"Enter the outstanding balance on your credit card: \"))\n",
    "interest_rate = float(raw_input(\"Enter the annual credit card interest rate as a decimal: \"))\n",
    "\n",
    "# Initialize state variables\n",
    "balance = original_balance\n",
    "low_payment = balance/12\n",
    "high_payment = (balance*(1+(interest_rate/12))**12)/12\n",
    "\n",
    "# Use bisection search until the search space is sufficiently small\n",
    "while True:\n",
    "    balance = original_balance\n",
    "    monthly_payment = (low_payment + high_payment)/2\n",
    "\n",
    "    # Simulate passage of time until outstanding balance is paid off\n",
    "    # Each iteration represents 1 month\n",
    "    for month in range(1,13):\n",
    "        interest = round(balance*interest_rate/12, 2)\n",
    "        balance += interest - monthly_payment\n",
    "        if balance <= 0:\n",
    "            break\n",
    "        \n",
    "    if (high_payment - low_payment < 0.005):\n",
    "        # Bisection search space is small enough\n",
    "        # Print result\n",
    "        print \"RESULT\"\n",
    "\n",
    "        # Round monthly payment up to the nearest cent\n",
    "        monthly_payment = round(monthly_payment + 0.004999, 2)\n",
    "        print \"Monthly payment to pay off debt in 1 year:\", round(monthly_payment,2)\n",
    "\n",
    "        # Recompute remaining balance and the number of months needed\n",
    "        balance = original_balance\n",
    "        for month in range(1,13):\n",
    "            interest = round(balance*interest_rate/12, 2)\n",
    "            balance += interest - monthly_payment\n",
    "            if balance <= 0:\n",
    "                break\n",
    "        print \"Number of months needed:\", month\n",
    "        print \"Balance:\", round(balance,2)\n",
    "        break\n",
    "    elif balance < 0:\n",
    "        #Paying too much\n",
    "        high_payment = monthly_payment\n",
    "    else:\n",
    "        #Paying too little\n",
    "        low_payment = monthly_payment\n",
    "\n"
   ]
  }
 ],
 "metadata": {
  "kernelspec": {
   "display_name": "Python 3",
   "language": "python",
   "name": "python3"
  },
  "language_info": {
   "codemirror_mode": {
    "name": "ipython",
    "version": 3
   },
   "file_extension": ".py",
   "mimetype": "text/x-python",
   "name": "python",
   "nbconvert_exporter": "python",
   "pygments_lexer": "ipython3",
   "version": "3.7.3"
  }
 },
 "nbformat": 4,
 "nbformat_minor": 2
}

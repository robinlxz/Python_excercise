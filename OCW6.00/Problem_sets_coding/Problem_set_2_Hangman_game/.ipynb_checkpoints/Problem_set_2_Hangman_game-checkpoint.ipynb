{
 "cells": [
  {
   "cell_type": "code",
   "execution_count": 3,
   "metadata": {},
   "outputs": [
    {
     "name": "stdout",
     "output_type": "stream",
     "text": [
      "Loading word list from file...\n",
      "   55900 words loaded.\n"
     ]
    }
   ],
   "source": [
    "# 6.00 Problem Set 3\n",
    "# \n",
    "# Hangman\n",
    "#\n",
    "\n",
    "\n",
    "# -----------------------------------\n",
    "# Helper code\n",
    "# (you don't need to understand this helper code)\n",
    "import random\n",
    "import string\n",
    "\n",
    "WORDLIST_FILENAME = \"words.txt\"\n",
    "\n",
    "def load_words():\n",
    "    \"\"\"\n",
    "    Returns a list of valid words. Words are strings of lowercase letters.\n",
    "    \n",
    "    Depending on the size of the word list, this function may\n",
    "    take a while to finish.\n",
    "    \"\"\"\n",
    "    print (\"Loading word list from file...\")\n",
    "    # inFile: file\n",
    "    inFile = open(WORDLIST_FILENAME, 'r')\n",
    "    # line: string\n",
    "    line = inFile.readline()\n",
    "    # wordlist: list of strings\n",
    "#    wordlist = string.split(line)\n",
    "    wordlist = line.split()\n",
    "    print (\"  \", len(wordlist), \"words loaded.\")\n",
    "    return wordlist\n",
    "\n",
    "def choose_word(wordlist):\n",
    "    \"\"\"\n",
    "    wordlist (list): list of words (strings)\n",
    "\n",
    "    Returns a word from wordlist at random\n",
    "    \"\"\"\n",
    "    return random.choice(wordlist)\n",
    "\n",
    "# end of helper code\n",
    "# -----------------------------------\n",
    "\n",
    "# actually load the dictionary of words and point to it with \n",
    "# the wordlist variable so that it can be accessed from anywhere\n",
    "# in the program\n",
    "wordlist = load_words()\n",
    "\n",
    "# your code begins here!\n"
   ]
  },
  {
   "cell_type": "code",
   "execution_count": 72,
   "metadata": {},
   "outputs": [],
   "source": [
    "def game_over_print(count, word, guessedLetters):\n",
    "    print (\"--------------------------\")\n",
    "    print (\"You have guessed %d times, game over.\" %count)\n",
    "    print ('The word is:', word)\n",
    "    print (\"The letters you've guessed are\", guessedLetters)\n",
    "    print (\"--------------------------\")\n",
    "    \n",
    "def current_status_print(count, word, guessedLetters):\n",
    "    word_status = ''\n",
    "    for char in word:\n",
    "        if char in guessedLetters:\n",
    "            word_status += char\n",
    "        else:\n",
    "            word_status += '_'\n",
    "    print (\"--------------------------\")            \n",
    "    print ('The word is <', word_status, '>')\n",
    "    print ('You have made %d guesses.' %count)\n",
    "    print (\"The letters you've guessed are\", guessedLetters)\n",
    "    \n",
    "def success_print(word, guessedLetters, count):\n",
    "    print (\"--------------------------\")    \n",
    "    print (\"You have guessed %d times.\" %count)\n",
    "    print ('The word is:', word)\n",
    "    print (\"The letters you've guessed are\", guessedLetters)\n",
    "    print (\"Congratulations! You've made it!\") \n",
    "    print (\"--------------------------\")\n",
    "    \n",
    "def make_a_guess(count, word, guessedLetters):\n",
    "    while True:\n",
    "        thisGuess = input('Guess a letter:')\n",
    "        if not thisGuess.isalpha():\n",
    "            print ('Please input an English letter.')\n",
    "        elif len(thisGuess) > 1: #length not correct\n",
    "            print ('Please input ONE letter each time.')\n",
    "        elif thisGuess.lower() in guessedLetters:\n",
    "            print ('You try this before, give me another one.')\n",
    "        elif False:\n",
    "            pass\n",
    "        else: #update the new guessedLetters list\n",
    "            guessedLetters.append(thisGuess.lower())\n",
    "            if thisGuess.lower() in word:\n",
    "                print('Nice one!')\n",
    "            else:\n",
    "                print('Ops, this one is not in there.') \n",
    "            count += 1\n",
    "            break\n",
    "    return count, guessedLetters\n",
    "\n",
    "def check_if_win(word, guessedLetters):\n",
    "    '''This function to check if the player has win, as all letters in word exist in guessedLetters'''\n",
    "    win = 1\n",
    "    for i in word:\n",
    "        if i not in guessedLetters:\n",
    "            win = 0\n",
    "    return win"
   ]
  },
  {
   "cell_type": "code",
   "execution_count": null,
   "metadata": {},
   "outputs": [
    {
     "name": "stdout",
     "output_type": "stream",
     "text": [
      "Length of the word:  4\n",
      "You can guess for 8 times\n",
      "----For test only------ gold\n",
      "--------------------------\n",
      "The word is < ____ >\n",
      "You have made 0 guesses.\n",
      "The letters you've guessed are []\n",
      "Guess a letter:c\n",
      "--------------------------\n",
      "The word is < ____ >\n",
      "You have made 1 guesses.\n",
      "The letters you've guessed are ['c']\n",
      "Guess a letter:o\n",
      "--------------------------\n",
      "The word is < _o__ >\n",
      "You have made 2 guesses.\n",
      "The letters you've guessed are ['c', 'o']\n"
     ]
    }
   ],
   "source": [
    "'''\n",
    "This is the main function.\n",
    "'''\n",
    "#Choose a word randomly from word list\n",
    "a = random.randrange(len(wordlist))\n",
    "word = wordlist[a]\n",
    "\n",
    "#init\n",
    "guessedLetters = []\n",
    "count = 0\n",
    "totalAllowGuess = len(word)*2\n",
    "\n",
    "#Provide info to player\n",
    "print('Length of the word: ', len(word))\n",
    "print(\"You can guess for %s times\" %totalAllowGuess)\n",
    "print ('----For test only------', word)\n",
    "while True:\n",
    "    current_status_print(count, word, guessedLetters)    \n",
    "#    count += 1 #this is done in make_a_guess\n",
    "    if check_if_win(word, guessedLetters):\n",
    "        success_print(word, guessedLetters, count)\n",
    "        break    \n",
    "    elif count == totalAllowGuess:\n",
    "        game_over_print(count, word, guessedLetters)\n",
    "        break\n",
    "    else:\n",
    "        count, guessedLetters = make_a_guess(count, word, guessedLetters)\n",
    "        #print ('Program is in else, count is ', count)\n",
    "\n",
    "\n",
    "                \n",
    "                    \n",
    "    #if result == word:"
   ]
  },
  {
   "cell_type": "code",
   "execution_count": 71,
   "metadata": {},
   "outputs": [
    {
     "data": {
      "text/plain": [
       "'A'"
      ]
     },
     "execution_count": 71,
     "metadata": {},
     "output_type": "execute_result"
    }
   ],
   "source": [
    "#Test blcok\n",
    "a = 'A'\n",
    "a.lower()\n",
    "a"
   ]
  }
 ],
 "metadata": {
  "kernelspec": {
   "display_name": "Python 3",
   "language": "python",
   "name": "python3"
  },
  "language_info": {
   "codemirror_mode": {
    "name": "ipython",
    "version": 3
   },
   "file_extension": ".py",
   "mimetype": "text/x-python",
   "name": "python",
   "nbconvert_exporter": "python",
   "pygments_lexer": "ipython3",
   "version": "3.7.3"
  }
 },
 "nbformat": 4,
 "nbformat_minor": 2
}

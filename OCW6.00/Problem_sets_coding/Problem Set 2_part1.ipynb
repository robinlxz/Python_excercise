{
 "cells": [
  {
   "cell_type": "markdown",
   "metadata": {},
   "source": [
    "# Problem Set #2\n",
    "### Successive Approximation and a Wordgame! \n",
    "\n",
    "## Introduction\n",
    "Successive approximation is a problem-solving method where you try to guess the right answer\n",
    "to a problem and then check your guess. If the guess is good enough, you’re done. Otherwise,\n",
    "you keep improving your guess in small increments and checking it, getting closer and closer to\n",
    "the right answer, until you determine that the guess is good enough. For the first 3 problems of\n",
    "this problem set, we will look at Newton’s method, which uses successive approximation to find\n",
    "the roots of a function.\n",
    "Secondly, we will have some fun with Python, and get some practice using strings and string\n",
    "operations. We would like you to implement the word game hangman as a 1-player game against\n",
    "the computer. "
   ]
  },
  {
   "cell_type": "code",
   "execution_count": 49,
   "metadata": {},
   "outputs": [],
   "source": [
    "# Problem 1\n",
    "'''Implement the evaluate_poly function. This function evaluates a polynomial function for the\n",
    "given x value. It takes in a tuple of numbers poly and a number x. By number, we mean\n",
    "that x and each element of poly is a float. evaluate_poly takes the polynomial represented\n",
    "by poly and computes its value at x. It returns this value as a float. '''\n",
    "\n",
    "def evaluate_poly(poly_tuple, x):\n",
    "    try:\n",
    "        x == float(x)\n",
    "    except:\n",
    "        print (\"X need to be a number, now it is: \", x)\n",
    "    #print (\"Yes the code still excuted after except happening?\")\n",
    "    poly_value = 0\n",
    "    order = 0\n",
    "#     print ('poly_tuple is: ', poly_tuple)\n",
    "#     print ('x is: ', x)\n",
    "    for i in poly_tuple:\n",
    "        poly_value += i*(x**order)\n",
    "        order +=1\n",
    "        \n",
    "    return poly_value"
   ]
  },
  {
   "cell_type": "code",
   "execution_count": 17,
   "metadata": {},
   "outputs": [
    {
     "name": "stdout",
     "output_type": "stream",
     "text": [
      "32.0\n"
     ]
    }
   ],
   "source": [
    "print (evaluate_poly((0,0,0,0,0,1),2.0))"
   ]
  },
  {
   "cell_type": "code",
   "execution_count": 31,
   "metadata": {},
   "outputs": [],
   "source": [
    "# Problem 2\n",
    "'''\n",
    "Implement the compute_deriv function. This function computes the derivative of a polynomial\n",
    "function. It takes in a tuple of numbers poly and returns the derivative, which is also a\n",
    "polynomial represented by a tuple. '''\n",
    "\n",
    "def compute_deriv(poly): \n",
    "    #poly_derivative = poly[1:]\n",
    "    poly_derivative = ()\n",
    "    order = 1 #As order 0 term is discarded in differentiation\n",
    "    for i in poly[1:]:\n",
    "        poly_derivative += (i*order,)\n",
    "        order += 1\n",
    "    \n",
    "    return poly_derivative"
   ]
  },
  {
   "cell_type": "code",
   "execution_count": 35,
   "metadata": {},
   "outputs": [
    {
     "data": {
      "text/plain": [
       "(0.0, 35.0, 9.0, 4.0)"
      ]
     },
     "execution_count": 35,
     "metadata": {},
     "output_type": "execute_result"
    }
   ],
   "source": [
    "compute_deriv( (-13.39, 0.0, 17.5, 3.0, 1.0) )"
   ]
  },
  {
   "cell_type": "code",
   "execution_count": 56,
   "metadata": {},
   "outputs": [],
   "source": [
    "# Problem 3\n",
    "'''\n",
    "Implementing Newton’s Method \n",
    "Implement the compute_root function. This function applies Newton’s method of successive\n",
    "approximation as described above to find a root of the polynomial function. It takes in a tuple of\n",
    "numbers poly, an initial guess x_0, and an error bound epsilon. It returns a tuple. The first\n",
    "element is the root of the polynomial represented by poly; the second element is the number of\n",
    "iterations it took to get to that root.\n",
    "The function starts at x_0. It then applies Newton’s method. It ends when it finds a root x such\n",
    "that the absolute value of f(x) is less than epsilon, i.e. f(x) is close enough to zero. It returns the\n",
    "root it found as a float. \n",
    "'''\n",
    "def compute_root(poly, x_0, epsilon):\n",
    "    x = float(x_0)\n",
    "    iteration_count = 1\n",
    "    while abs(evaluate_poly(poly, x))>epsilon:\n",
    "        x = x - evaluate_poly(poly, x)/evaluate_poly(compute_deriv(poly), x)\n",
    "        iteration_count += 1\n",
    "    return (x, iteration_count)"
   ]
  },
  {
   "cell_type": "code",
   "execution_count": 57,
   "metadata": {},
   "outputs": [
    {
     "name": "stdout",
     "output_type": "stream",
     "text": [
      "(0.806790753796352, 8)\n"
     ]
    }
   ],
   "source": [
    "poly = (-13.39, 0.0, 17.5, 3.0, 1.0) \n",
    "x_0 = 0.1 \n",
    "epsilon = .0001\n",
    "print (compute_root(poly, x_0, epsilon))\n"
   ]
  }
 ],
 "metadata": {
  "kernelspec": {
   "display_name": "Python 3",
   "language": "python",
   "name": "python3"
  },
  "language_info": {
   "codemirror_mode": {
    "name": "ipython",
    "version": 3
   },
   "file_extension": ".py",
   "mimetype": "text/x-python",
   "name": "python",
   "nbconvert_exporter": "python",
   "pygments_lexer": "ipython3",
   "version": "3.7.3"
  }
 },
 "nbformat": 4,
 "nbformat_minor": 2
}

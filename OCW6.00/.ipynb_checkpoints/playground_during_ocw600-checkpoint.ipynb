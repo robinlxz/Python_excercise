{
 "cells": [
  {
   "cell_type": "markdown",
   "metadata": {},
   "source": [
    "# For test codes and drafts"
   ]
  },
  {
   "cell_type": "markdown",
   "metadata": {},
   "source": [
    "## 1. about python anonymous function 'lambda'\n",
    "## lambda x: <content of function, e.g.: x**2>"
   ]
  },
  {
   "cell_type": "code",
   "execution_count": 2,
   "metadata": {},
   "outputs": [],
   "source": [
    "## This is for lambda learning\n",
    "def func(x):\n",
    "    return x**2\n",
    "\n",
    "func(16)\n",
    "\n",
    "a = lambda x: x**2\n",
    "a(16)\n",
    "\n",
    "nameList = [\"Dawn Keith\",\"Bettie Eaton\",\"Margie Ayala\",\"Baker Townsend\",\"Annmarie Atkinson\",\"Stark Jenkins\",\"Odonnell Rollins\",\"Rachelle Chang\",\"Davis Wade\",\"Oneill Everett\",\"Dalton Waters\",\"Howard Serrano\",\"Mills Reyes\",\"Pearl Coffey\",\"Tommie Chase\",\"Frost Mayer\",\"Mercado Sweeney\",\"Potts Humphrey\",\"Garrison Richardson\",\"Owen Hood\"]\n",
    "#nameList.sort()\n",
    "nameList.sort(key = lambda name: name[0])\n",
    "#nameList.sort(key = lambda name: name.split(\" \")[-1].lower())\n",
    "nameList"
   ]
  },
  {
   "cell_type": "code",
   "execution_count": null,
   "metadata": {},
   "outputs": [],
   "source": [
    "# Example code from https://www.afternerd.com/blog/python-lambdas/#using-lambdas-list-sorting\n",
    "class Employee:\n",
    "    def __init__(self, name, age):\n",
    "        self.name = name\n",
    "        self.age = age\n",
    "\n",
    "Alex = Employee('Alex', 20)\n",
    "Amanda = Employee('Amanda', 30)\n",
    "David = Employee('David', 15)\n",
    "L = [Alex, Amanda, David]\n",
    "\n",
    "L.sort(key=lambda x: x.age)\n",
    "print([item.name for item in L])\n",
    "# output: ['David', 'Alex', 'Amanda']"
   ]
  },
  {
   "cell_type": "code",
   "execution_count": null,
   "metadata": {},
   "outputs": [],
   "source": [
    "a = lambda x: x**2\n",
    "a(2)\n",
    "aList = [1,2,3]\n",
    "aList.sort(reverse=True)\n",
    "\n",
    "nameList = ['abc','abd','bbc']\n",
    "nameList.sort(key = lambda name: name[-1])\n",
    "nameList\n",
    "\n"
   ]
  },
  {
   "cell_type": "code",
   "execution_count": null,
   "metadata": {},
   "outputs": [],
   "source": [
    "self_square = lambda x: x**2\n",
    "self_square(3)\n",
    "print ([x**2 for x in aList])\n",
    "print (' '.join(nameList))\n",
    "print ([name for name in nameList if name[0]=='a'])"
   ]
  },
  {
   "cell_type": "markdown",
   "metadata": {},
   "source": [
    "## 2. About for loop in one line (actually 'generator')\n",
    "## < operation > for x in xList (if x > 0)\n",
    "## The concept is similar to yield"
   ]
  },
  {
   "cell_type": "code",
   "execution_count": 24,
   "metadata": {},
   "outputs": [
    {
     "data": {
      "text/plain": [
       "[1, 9, 25]"
      ]
     },
     "execution_count": 24,
     "metadata": {},
     "output_type": "execute_result"
    }
   ],
   "source": [
    "#a = [print ('Never give up!') for _ in range(3)]\n",
    "a = [i**2 for i in range(7) if i%2]\n",
    "a\n",
    "#sum(1 for _ in range(5))"
   ]
  },
  {
   "cell_type": "code",
   "execution_count": 25,
   "metadata": {},
   "outputs": [
    {
     "data": {
      "text/plain": [
       "[1, 1, 1]"
      ]
     },
     "execution_count": 25,
     "metadata": {},
     "output_type": "execute_result"
    }
   ],
   "source": [
    "\" \".join(['axx' for _ in range(3)])\n",
    "list(1 for _ in range(3))\n",
    "\n",
    "def above():\n",
    "    for _ in range(3):\n",
    "        yield 1\n",
    "list(above())"
   ]
  }
 ],
 "metadata": {
  "kernelspec": {
   "display_name": "Python 3",
   "language": "python",
   "name": "python3"
  },
  "language_info": {
   "codemirror_mode": {
    "name": "ipython",
    "version": 3
   },
   "file_extension": ".py",
   "mimetype": "text/x-python",
   "name": "python",
   "nbconvert_exporter": "python",
   "pygments_lexer": "ipython3",
   "version": "3.7.3"
  }
 },
 "nbformat": 4,
 "nbformat_minor": 2
}

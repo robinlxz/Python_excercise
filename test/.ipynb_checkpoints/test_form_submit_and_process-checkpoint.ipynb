{
 "cells": [
  {
   "cell_type": "markdown",
   "metadata": {},
   "source": [
    "# For record submission test\n"
   ]
  },
  {
   "cell_type": "code",
   "execution_count": 13,
   "metadata": {},
   "outputs": [],
   "source": [
    "def input_amount():\n",
    "    while True:\n",
    "        a = input('Amount:')\n",
    "        try: \n",
    "            a = float(a)\n",
    "        except:\n",
    "            print (\"Please input a number for amount\")\n",
    "            pass\n",
    "        if type(a) == float:\n",
    "            break\n",
    "    return a\n",
    "            \n"
   ]
  },
  {
   "cell_type": "code",
   "execution_count": 11,
   "metadata": {},
   "outputs": [
    {
     "name": "stdout",
     "output_type": "stream",
     "text": [
      "Amount is: 123\n"
     ]
    }
   ],
   "source": [
    "a = 123\n",
    "type(a)\n",
    "print (\"Amount is:\", a)"
   ]
  },
  {
   "cell_type": "code",
   "execution_count": null,
   "metadata": {
    "scrolled": true
   },
   "outputs": [],
   "source": [
    "inputReceiptSeqNumber = input('receipt sequence number is: ')\n",
    "inputVender = input('Vender Name (please put \"Various\" if not needed): ')\n",
    "inputDate = input('Date: ')\n",
    "inputAmount = input_amount()"
   ]
  }
 ],
 "metadata": {
  "kernelspec": {
   "display_name": "Python 3",
   "language": "python",
   "name": "python3"
  },
  "language_info": {
   "codemirror_mode": {
    "name": "ipython",
    "version": 3
   },
   "file_extension": ".py",
   "mimetype": "text/x-python",
   "name": "python",
   "nbconvert_exporter": "python",
   "pygments_lexer": "ipython3",
   "version": "3.7.3"
  }
 },
 "nbformat": 4,
 "nbformat_minor": 2
}

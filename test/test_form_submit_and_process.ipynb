{
 "cells": [
  {
   "cell_type": "markdown",
   "metadata": {},
   "source": [
    "# For record submission test\n"
   ]
  },
  {
   "cell_type": "code",
   "execution_count": 13,
   "metadata": {},
   "outputs": [],
   "source": [
    "def input_amount():\n",
    "    while True:\n",
    "        a = input('Amount:')\n",
    "        try: \n",
    "            a = float(a)\n",
    "        except:\n",
    "            print (\"Please input a number for amount\")\n",
    "            pass\n",
    "        if type(a) == float:\n",
    "            break\n",
    "    return a\n",
    "            \n"
   ]
  },
  {
   "cell_type": "code",
   "execution_count": 11,
   "metadata": {},
   "outputs": [
    {
     "name": "stdout",
     "output_type": "stream",
     "text": [
      "Amount is: 123\n"
     ]
    }
   ],
   "source": [
    "a = 123\n",
    "type(a)\n",
    "print (\"Amount is:\", a)"
   ]
  },
  {
   "cell_type": "code",
   "execution_count": null,
   "metadata": {
    "scrolled": true
   },
   "outputs": [],
   "source": [
    "inputReceiptSeqNumber = input('receipt sequence number is: ')\n",
    "inputVender = input('Vender Name (please put \"Various\" if not needed): ')\n",
    "inputDate = input('Date: ')\n",
    "inputAmount = input_amount()"
   ]
  },
  {
   "cell_type": "code",
   "execution_count": 6,
   "metadata": {},
   "outputs": [],
   "source": [
    "import csv\n",
    "date_str = '06'\n",
    "folder_str = '20190704_IP_UID_check/mongoexport' #VN\n",
    "\n",
    "def read_csv(file_name):\n",
    "    ''' (py3) This function read the data by raws in csv, into a list '''\n",
    "    with open(file_name, 'r') as f:\n",
    "        reader = csv.reader(f)\n",
    "        list_output = list(reader)\n",
    "    # To get rid of the first raw, if there is title from mongoexport\n",
    "    if list_output[0][0] == 'date':\n",
    "        list_output = list_output[1:]\n",
    "    return list_output\n",
    "\n",
    "listFromCSV = read_csv('/Users/linxz/Documents/'+folder_str+'/fo4_vn_2019-'+date_str+'.csv')"
   ]
  },
  {
   "cell_type": "code",
   "execution_count": 52,
   "metadata": {},
   "outputs": [
    {
     "data": {
      "text/plain": [
       "'2019-06-02T16:01:20.196Z'"
      ]
     },
     "execution_count": 52,
     "metadata": {},
     "output_type": "execute_result"
    }
   ],
   "source": [
    "listFromCSV[1][0]\n",
    "#int(listFromCSV[1][0][14:16])"
   ]
  },
  {
   "cell_type": "code",
   "execution_count": 56,
   "metadata": {},
   "outputs": [],
   "source": [
    "from datetime import datetime\n",
    "def transfer_mongo_time_to_datetime(mongoTimeString):\n",
    "    '''\n",
    "    convert mongo time to python date time, to separate different time range when needed\n",
    "    '''\n",
    "    timeStamp = datetime(int(mongoTimeString[0:4]),int(mongoTimeString[5:7]),int(mongoTimeString[8:10]),int(mongoTimeString[11:13]),int(mongoTimeString[14:16]),int(mongoTimeString[17:19]))\n",
    "    \n",
    "    return timeStamp"
   ]
  },
  {
   "cell_type": "code",
   "execution_count": 51,
   "metadata": {},
   "outputs": [
    {
     "data": {
      "text/plain": [
       "datetime.datetime(2019, 6, 2, 16, 1)"
      ]
     },
     "execution_count": 51,
     "metadata": {},
     "output_type": "execute_result"
    }
   ],
   "source": [
    "timeStamp = datetime(int(listFromCSV[1][0][0:4]),int(listFromCSV[1][0][5:7]),int(listFromCSV[1][0][8:10]),int(listFromCSV[1][0][11:13]),int(listFromCSV[1][0][14:16]))\n",
    "timeStamp"
   ]
  },
  {
   "cell_type": "code",
   "execution_count": 82,
   "metadata": {},
   "outputs": [
    {
     "data": {
      "text/plain": [
       "True"
      ]
     },
     "execution_count": 82,
     "metadata": {},
     "output_type": "execute_result"
    }
   ],
   "source": [
    "date0601_cut = datetime(2019, 6, 1, 17, 0)\n",
    "date0602_cut = datetime(2019, 6, 2, 17, 0)\n",
    "date0603_cut = datetime(2019, 6, 3, 17, 0)\n",
    "date0601_cut < date0602_cut"
   ]
  },
  {
   "cell_type": "code",
   "execution_count": 79,
   "metadata": {},
   "outputs": [
    {
     "name": "stdout",
     "output_type": "stream",
     "text": [
      "skip this\n"
     ]
    }
   ],
   "source": [
    "# This convert the mongodatetime to python datetime\n",
    "\n",
    "for record in listFromCSV:\n",
    "#    print (record[0])\n",
    "    if record[0] == 'date_$date':\n",
    "        print ('skip this')\n",
    "        pass\n",
    "    elif type(record[0]) == datetime:\n",
    "        pass\n",
    "    else:\n",
    "        record[0] = transfer_mongo_time_to_datetime(record[0])\n",
    "#    print (record[0])    "
   ]
  },
  {
   "cell_type": "code",
   "execution_count": 83,
   "metadata": {},
   "outputs": [
    {
     "name": "stdout",
     "output_type": "stream",
     "text": [
      "skip this\n"
     ]
    }
   ],
   "source": [
    "list0601 = []\n",
    "list0602 = []\n",
    "list0603 = []\n",
    "listOther = []\n",
    "\n",
    "for record in listFromCSV:\n",
    "#    print (record[0])\n",
    "    if record[0] == 'date_$date':\n",
    "        print ('skip this')\n",
    "        pass\n",
    "    elif record[0] < date0601_cut:\n",
    "        list0601.append(record)\n",
    "    elif record[0] < date0602_cut:\n",
    "        list0602.append(record)\n",
    "    elif record[0] < date0603_cut:\n",
    "        list0603.append(record)\n",
    "    else:\n",
    "        listOther.append(record)"
   ]
  },
  {
   "cell_type": "code",
   "execution_count": 87,
   "metadata": {},
   "outputs": [
    {
     "data": {
      "text/plain": [
       "871300"
      ]
     },
     "execution_count": 87,
     "metadata": {},
     "output_type": "execute_result"
    }
   ],
   "source": [
    "len(list0603)"
   ]
  }
 ],
 "metadata": {
  "kernelspec": {
   "display_name": "Python 3",
   "language": "python",
   "name": "python3"
  },
  "language_info": {
   "codemirror_mode": {
    "name": "ipython",
    "version": 3
   },
   "file_extension": ".py",
   "mimetype": "text/x-python",
   "name": "python",
   "nbconvert_exporter": "python",
   "pygments_lexer": "ipython3",
   "version": "3.7.3"
  }
 },
 "nbformat": 4,
 "nbformat_minor": 2
}
